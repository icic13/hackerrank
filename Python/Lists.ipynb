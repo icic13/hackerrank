{
 "cells": [
  {
   "cell_type": "code",
   "execution_count": 5,
   "metadata": {
    "collapsed": false
   },
   "outputs": [
    {
     "name": "stdout",
     "output_type": "stream",
     "text": [
      "12\n",
      "insert 0 5\n",
      "insert 1 10\n",
      "insert 0 6\n",
      "print\n",
      "[6, 5, 10]\n",
      "remove 6\n",
      "append 9\n",
      "append 1\n",
      "sort\n",
      "print\n",
      "[1, 5, 9, 10]\n",
      "pop\n",
      "reverse\n",
      "print\n",
      "[9, 5, 1]\n"
     ]
    }
   ],
   "source": [
    "L = []\n",
    "n = int(raw_input())\n",
    "for i in range(n):\n",
    "    str = raw_input().split()\n",
    "    if str[0] == \"insert\":\n",
    "        L.insert(int(str[1]),int(str[2]))\n",
    "    elif str[0] == \"append\":\n",
    "        L.append(int(str[1]))\n",
    "    elif str[0] == \"remove\":\n",
    "        L.remove(int(str[1]))\n",
    "    elif str[0] == \"pop\":\n",
    "        L.pop()\n",
    "    elif str[0] == \"index\":\n",
    "        L.index(int(str[1]))\n",
    "    elif str[0] == \"count\":\n",
    "        L.count(int[str[1]])\n",
    "    elif str[0] == \"sort\":\n",
    "        L.sort()\n",
    "    elif str[0] == \"reverse\":\n",
    "        L.reverse()\n",
    "    elif str[0] == \"print\":\n",
    "        print L\n",
    "        "
   ]
  },
  {
   "cell_type": "code",
   "execution_count": 4,
   "metadata": {
    "collapsed": false
   },
   "outputs": [
    {
     "data": {
      "text/plain": [
       "[5, 2]"
      ]
     },
     "execution_count": 4,
     "metadata": {},
     "output_type": "execute_result"
    }
   ],
   "source": [
    "L"
   ]
  },
  {
   "cell_type": "code",
   "execution_count": null,
   "metadata": {
    "collapsed": true
   },
   "outputs": [],
   "source": []
  }
 ],
 "metadata": {
  "kernelspec": {
   "display_name": "Python 2",
   "language": "python",
   "name": "python2"
  },
  "language_info": {
   "codemirror_mode": {
    "name": "ipython",
    "version": 2
   },
   "file_extension": ".py",
   "mimetype": "text/x-python",
   "name": "python",
   "nbconvert_exporter": "python",
   "pygments_lexer": "ipython2",
   "version": "2.7.10"
  }
 },
 "nbformat": 4,
 "nbformat_minor": 0
}
